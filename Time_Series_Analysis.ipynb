{
  "cells": [
    {
      "cell_type": "markdown",
      "metadata": {
        "id": "view-in-github",
        "colab_type": "text"
      },
      "source": [
        "<a href=\"https://colab.research.google.com/github/lucaspn017/time_series_analysis/blob/main/Time_Series_Analysis.ipynb\" target=\"_parent\"><img src=\"https://colab.research.google.com/assets/colab-badge.svg\" alt=\"Open In Colab\"/></a>"
      ]
    },
    {
      "cell_type": "markdown",
      "metadata": {
        "id": "dRtxk75ZffCJ"
      },
      "source": [
        "<h1> Separando os valores de consumo na ponta e fora-ponta </h1>"
      ]
    },
    {
      "cell_type": "code",
      "execution_count": null,
      "metadata": {
        "id": "YLZUunl8ffCa"
      },
      "outputs": [],
      "source": [
        "import pandas as pd\n",
        "from datetime import datetime\n",
        "import numpy as np\n",
        "\n",
        "data = pd.read_excel('power.xlsx')\n",
        "datafp = pd.read_excel('powerfactor.xlsx')\n",
        "\n",
        "data['DateTime']= pd.to_datetime(data['DateTime'])\n",
        "datafp['DateTime']= pd.to_datetime(datafp['DateTime'])\n",
        "\n",
        "data.set_axis(data['DateTime'], inplace=True)\n",
        "\n",
        "point = data[(data['DateTime'].dt.time >= datetime.strptime(\"18:30:00\", '%H:%M:%S').time()) & (data['DateTime'].dt.time <= datetime.strptime(\"21:29:00\", '%H:%M:%S').time())]\n",
        "outPoint = data[(data['DateTime'].dt.time >= datetime.strptime(\"22:30:00\", '%H:%M:%S').time()) & (data['DateTime'].dt.time <= datetime.strptime(\"23:50:00\", '%H:%M:%S').time()) | (data['DateTime'].dt.time >= datetime.strptime(\"00:00:00\", '%H:%M:%S').time()) & (data['DateTime'].dt.time <= datetime.strptime(\"17:29:00\", '%H:%M:%S').time())]\n",
        "inter = (data.drop(point.index)).drop(outPoint.index)\n",
        "\n",
        "\n",
        "pointfp = datafp[(datafp['DateTime'].dt.time >= datetime.strptime(\"18:30:00\", '%H:%M:%S').time()) & (datafp['DateTime'].dt.time <= datetime.strptime(\"21:29:00\", '%H:%M:%S').time())]\n",
        "outPointfp = datafp[(datafp['DateTime'].dt.time >= datetime.strptime(\"22:30:00\", '%H:%M:%S').time()) & (datafp['DateTime'].dt.time <= datetime.strptime(\"23:50:00\", '%H:%M:%S').time()) | (datafp['DateTime'].dt.time >= datetime.strptime(\"00:00:00\", '%H:%M:%S').time()) & (datafp['DateTime'].dt.time <= datetime.strptime(\"17:29:00\", '%H:%M:%S').time())]\n",
        "interfp = (datafp.drop(pointfp.index)).drop(outPointfp.index)\n",
        "\n",
        "#OBTENÇÃO DOS VALORES DE PONTA\n",
        "\n",
        "value = point['Total'].tolist()\n",
        "value = np.array(value)\n",
        "consP = np.trapz(value, dx=1/6)\n",
        "\n",
        "#OBTENÇÃO DOS VALORES FORA-PONTA\n",
        "\n",
        "value = outPoint['Total'].tolist()\n",
        "value = np.array(value)\n",
        "consFP = np.trapz(value, dx=1/6)\n",
        "\n",
        "print(f'O VALOR DE CONSUMO NO HORÁRIO DE PONTA É: {consP} Wh \\n\\nO VALOR DE CONSUMO NO HORÁRIO FORA-PONTA É: {consFP} Wh')\n"
      ]
    },
    {
      "cell_type": "markdown",
      "metadata": {
        "id": "VeISJ4X7ffCd"
      },
      "source": [
        "<h1> Separando os valores de consumo de reativo na ponta e fora-ponta </h1>"
      ]
    },
    {
      "cell_type": "code",
      "execution_count": null,
      "metadata": {
        "id": "yHtlYs35ffCd"
      },
      "outputs": [],
      "source": [
        "import pandas as pd\n",
        "from datetime import datetime\n",
        "import numpy as np\n",
        "\n",
        "data = pd.read_excel('power.xlsx')\n",
        "datafp = pd.read_excel('powerfactor.xlsx')\n",
        "\n",
        "data['DateTime']= pd.to_datetime(data['DateTime'])\n",
        "datafp['DateTime']= pd.to_datetime(datafp['DateTime'])\n",
        "\n",
        "data.set_axis(data['DateTime'], inplace=True)\n",
        "datafp.set_axis(data['DateTime'], inplace=True)\n",
        "\n",
        "# Separando os valores de potência ativa em Ponta, Fora-Ponta e Intermediário\n",
        "point = data[(data['DateTime'].dt.time >= datetime.strptime(\"18:30:00\", '%H:%M:%S').time()) & (data['DateTime'].dt.time <= datetime.strptime(\"21:29:00\", '%H:%M:%S').time())]\n",
        "outPoint = data[(data['DateTime'].dt.time >= datetime.strptime(\"22:30:00\", '%H:%M:%S').time()) & (data['DateTime'].dt.time <= datetime.strptime(\"23:50:00\", '%H:%M:%S').time()) | (data['DateTime'].dt.time >= datetime.strptime(\"00:00:00\", '%H:%M:%S').time()) & (data['DateTime'].dt.time <= datetime.strptime(\"17:29:00\", '%H:%M:%S').time())]\n",
        "inter = (data.drop(point.index)).drop(outPoint.index)\n",
        "\n",
        "# Separando os valores de fator de potência em Ponta, Fora-Ponta e Intermediário\n",
        "pointfp = datafp[(datafp['DateTime'].dt.time >= datetime.strptime(\"18:30:00\", '%H:%M:%S').time()) & (datafp['DateTime'].dt.time <= datetime.strptime(\"21:29:00\", '%H:%M:%S').time())]\n",
        "outPointfp = datafp[(datafp['DateTime'].dt.time >= datetime.strptime(\"22:30:00\", '%H:%M:%S').time()) & (datafp['DateTime'].dt.time <= datetime.strptime(\"23:50:00\", '%H:%M:%S').time()) | (datafp['DateTime'].dt.time >= datetime.strptime(\"00:00:00\", '%H:%M:%S').time()) & (datafp['DateTime'].dt.time <= datetime.strptime(\"17:29:00\", '%H:%M:%S').time())]\n",
        "interfp = (datafp.drop(pointfp.index)).drop(outPointfp.index)\n",
        "\n",
        "def calc_reat_exc(**kwargs):\n",
        "    fr=0.92\n",
        "    reat_exc = 0\n",
        "    reat_exc2 = 0\n",
        "\n",
        "    tempoI1 = datetime.strptime(\"23:30:00\",\"%H:%M:%S\").time()\n",
        "    tempoF1 = datetime.strptime(\"23:50:00\",\"%H:%M:%S\").time()\n",
        "    tempoI2 = datetime.strptime(\"00:00:00\",\"%H:%M:%S\").time()\n",
        "    tempoF2 = datetime.strptime(\"06:30:00\",\"%H:%M:%S\").time()\n",
        "\n",
        "    fpD = kwargs['fp_df']\n",
        "    apD = kwargs['ap_df']\n",
        "\n",
        "    #Para valores na ponta\n",
        "    for index in fpD.index:\n",
        "        if 0 <fpD[index] < 0.92:\n",
        "            reat_exc = reat_exc + apD[index]*(fr/abs(fpD[index]) - 1)\n",
        "\n",
        "    #Para valores fora-ponta(Pois é apenas entre às 11:30 e 06:30:00)\n",
        "\n",
        "    filt = kwargs['fp_df'][(kwargs['fp_df'].index.time >= tempoI1) & (kwargs['fp_df'].index.time <= tempoF1)] & kwargs['fp_df'][(kwargs['fp_df'].index.time >= tempoI2) & (kwargs['fp_df'].index.time <= tempoF2)]\n",
        "    fiapD = kwargs['ap_df'][(kwargs['ap_df'].index.time >= tempoI1) & (kwargs['ap_df'].index.time <= tempoF1)] & kwargs['ap_df'][(kwargs['ap_df'].index.time >= tempoI2) & (kwargs['ap_df'].index.time <= tempoF2)]\n",
        "    fpD = kwargs['fp_df'].drop(filt.index)\n",
        "    apD = kwargs['ap_df'].drop(fiapD.index)\n",
        "\n",
        "    for index in filt.index:\n",
        "        if 0 > filt[index] > -0.92:\n",
        "            reat_exc2 = reat_exc2 + filt[index]*(fr/abs(filt[index]) - 1)\n",
        "    total = reat_exc + reat_exc2\n",
        "\n",
        "    return total\n",
        "\n",
        "point = point.resample('1H').mean()\n",
        "pointfp = pointfp.resample('1H').mean()\n",
        "\n",
        "outPoint = outPoint.resample('1H').mean()\n",
        "outPointfp = outPointfp.resample('1H').mean()\n",
        "\n",
        "dataRU = data.resample('1H').mean()\n",
        "\n",
        "calc_reat_exc(fp_df =  pointfp['Total'], ap_df = point['Total'])\n",
        "\n",
        "#Forma alternativa de obter um intevalo de dados\n",
        "#Não é possível comparar o valor obtido com o strptime, se não for utilizado o atributo .time no DataFrame point com atributo .index.\n"
      ]
    }
  ],
  "metadata": {
    "kernelspec": {
      "display_name": "Python 3.8.5 64-bit",
      "language": "python",
      "name": "python3"
    },
    "language_info": {
      "codemirror_mode": {
        "name": "ipython",
        "version": 3
      },
      "file_extension": ".py",
      "mimetype": "text/x-python",
      "name": "python",
      "nbconvert_exporter": "python",
      "pygments_lexer": "ipython3",
      "version": "3.8.5"
    },
    "orig_nbformat": 4,
    "vscode": {
      "interpreter": {
        "hash": "5758cce863cc85c12032ac54c5249c5bc7f26418c52706d6e47f526bbee4579e"
      }
    },
    "colab": {
      "provenance": [],
      "include_colab_link": true
    }
  },
  "nbformat": 4,
  "nbformat_minor": 0
}